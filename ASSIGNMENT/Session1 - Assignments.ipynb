{
 "cells": [
  {
   "cell_type": "markdown",
   "id": "c067dcd9",
   "metadata": {},
   "source": [
    "### Q1. Create a list of five integers and print it."
   ]
  },
  {
   "cell_type": "code",
   "execution_count": 4,
   "id": "19a0e252",
   "metadata": {},
   "outputs": [
    {
     "data": {
      "text/plain": [
       "[5, 30, 16, 12, 17]"
      ]
     },
     "execution_count": 4,
     "metadata": {},
     "output_type": "execute_result"
    }
   ],
   "source": [
    "LIS = [5 , 30 ,16, 12 ,17]\n",
    "LIS"
   ]
  },
  {
   "cell_type": "markdown",
   "id": "a2d05fd3",
   "metadata": {},
   "source": [
    "### Q2. Write a program to find the length of a list."
   ]
  },
  {
   "cell_type": "code",
   "execution_count": 5,
   "id": "6b75c5d1",
   "metadata": {},
   "outputs": [
    {
     "data": {
      "text/plain": [
       "5"
      ]
     },
     "execution_count": 5,
     "metadata": {},
     "output_type": "execute_result"
    }
   ],
   "source": [
    "len(LIS)"
   ]
  },
  {
   "cell_type": "markdown",
   "id": "c705d6ac",
   "metadata": {},
   "source": [
    "### Q3. Create a tuple with three elements and print the second item."
   ]
  },
  {
   "cell_type": "code",
   "execution_count": 9,
   "id": "61c1e11e",
   "metadata": {},
   "outputs": [
    {
     "name": "stdout",
     "output_type": "stream",
     "text": [
      "6\n"
     ]
    }
   ],
   "source": [
    "tup =(34 ,50 , 6)\n",
    "print (tup[2])"
   ]
  },
  {
   "cell_type": "markdown",
   "id": "a3fb1843",
   "metadata": {},
   "source": [
    "### Q4. Create a dictionary with 3 key-value pairs and print all keys."
   ]
  },
  {
   "cell_type": "code",
   "execution_count": 8,
   "id": "c588c043",
   "metadata": {},
   "outputs": [
    {
     "name": "stdout",
     "output_type": "stream",
     "text": [
      "{'a': 12, 'b': 5, 'c': 10}\n"
     ]
    }
   ],
   "source": [
    "dicto= {'a':12 , 'b' :5 ,'c' :10}\n",
    "print(dicto)\n"
   ]
  },
  {
   "cell_type": "markdown",
   "id": "499c5644",
   "metadata": {},
   "source": [
    "### Q5. Write a program to convert a list into a set."
   ]
  },
  {
   "cell_type": "code",
   "execution_count": 11,
   "id": "5b3e7b61",
   "metadata": {},
   "outputs": [
    {
     "name": "stdout",
     "output_type": "stream",
     "text": [
      "{8, 20, 6, 15}\n"
     ]
    }
   ],
   "source": [
    "LIS = [ 20 , 15 ,6 ,8 ]\n",
    "SET = set(LIS)\n",
    "print(SET)\n"
   ]
  },
  {
   "cell_type": "markdown",
   "id": "a0e55b4f",
   "metadata": {},
   "source": [
    "### Q6. Create a string and print its first and last characters."
   ]
  },
  {
   "cell_type": "code",
   "execution_count": 13,
   "id": "b5cc0d08",
   "metadata": {},
   "outputs": [
    {
     "name": "stdout",
     "output_type": "stream",
     "text": [
      "t\n",
      "a\n"
     ]
    }
   ],
   "source": [
    "charecters = \"ansdrt\"\n",
    "print(max(charecters))\n",
    "print(min(charecters))"
   ]
  },
  {
   "cell_type": "markdown",
   "id": "3a3e1b74",
   "metadata": {},
   "source": [
    "### Q7. Take input from the user and print it."
   ]
  },
  {
   "cell_type": "code",
   "execution_count": 2,
   "id": "566107d7",
   "metadata": {},
   "outputs": [
    {
     "name": "stdout",
     "output_type": "stream",
     "text": [
      "1234\n"
     ]
    }
   ],
   "source": [
    "b =input(\"PLEASE ENTER A NUMBER\")\n",
    "print (b)"
   ]
  },
  {
   "cell_type": "markdown",
   "id": "32003cd3",
   "metadata": {},
   "source": [
    "### Q8. Write a program to add two numbers entered by the user."
   ]
  },
  {
   "cell_type": "code",
   "execution_count": 3,
   "id": "1cce015b",
   "metadata": {},
   "outputs": [
    {
     "name": "stdout",
     "output_type": "stream",
     "text": [
      "71\n"
     ]
    }
   ],
   "source": [
    "v1=int(input('1st number'))\n",
    "v2=int(input('2nd number'))\n",
    "r=v1+v2\n",
    "print(r)"
   ]
  },
  {
   "cell_type": "markdown",
   "id": "7eb34a32",
   "metadata": {},
   "source": [
    "### Q9. Use `type()` function to check the data type of a variable."
   ]
  },
  {
   "cell_type": "code",
   "execution_count": 16,
   "id": "cfd2011d",
   "metadata": {},
   "outputs": [
    {
     "name": "stdout",
     "output_type": "stream",
     "text": [
      "<class 'str'>\n",
      "<class 'int'>\n",
      "<class 'bool'>\n"
     ]
    }
   ],
   "source": [
    "a = 'sally'\n",
    "b = 223\n",
    "c = True\n",
    "print (type(a))\n",
    "print (type(b))\n",
    "print (type(c))"
   ]
  },
  {
   "cell_type": "markdown",
   "id": "be64d8e2",
   "metadata": {},
   "source": [
    "### Q10. Create a boolean variable and print it."
   ]
  },
  {
   "cell_type": "code",
   "execution_count": 17,
   "id": "46812973",
   "metadata": {},
   "outputs": [
    {
     "name": "stdout",
     "output_type": "stream",
     "text": [
      "the boolean is :  False\n"
     ]
    }
   ],
   "source": [
    "boolean = False\n",
    "print (\"the boolean is : \" , boolean)"
   ]
  },
  {
   "cell_type": "markdown",
   "id": "53765968",
   "metadata": {},
   "source": [
    "### Q11. Check if a number is positive, negative, or zero using `if` statement."
   ]
  },
  {
   "cell_type": "code",
   "execution_count": 20,
   "id": "0623e6d5",
   "metadata": {},
   "outputs": [
    {
     "name": "stdout",
     "output_type": "stream",
     "text": [
      "24 is positive\n"
     ]
    }
   ],
   "source": [
    "x=24\n",
    "\n",
    "if x > 0:\n",
    "    print(f\"{x} is positive\")\n",
    "\n",
    "elif x < 0:\n",
    "    print(f\"{x}is negative\")\n",
    "\n",
    "else:\n",
    "    print ('error')"
   ]
  },
  {
   "cell_type": "markdown",
   "id": "79b115a2",
   "metadata": {},
   "source": [
    "### Q12. Write a program to check if a number is even or odd."
   ]
  },
  {
   "cell_type": "code",
   "execution_count": 5,
   "id": "efcc28dc",
   "metadata": {},
   "outputs": [
    {
     "name": "stdout",
     "output_type": "stream",
     "text": [
      "5 IS ODD.\n"
     ]
    }
   ],
   "source": [
    "NUMBER = int(input(\"ENTER A NUMBER: \"))\n",
    "if NUMBER % 2 == 0:\n",
    "    print(f\"{NUMBER} IS EVEN.\")\n",
    "else:\n",
    "    print(f\"{NUMBER} IS ODD.\")"
   ]
  },
  {
   "cell_type": "markdown",
   "id": "4e15996d",
   "metadata": {},
   "source": [
    "### Q13. Write a program that prints your name 3 times using a `for` loop."
   ]
  },
  {
   "cell_type": "code",
   "execution_count": 6,
   "id": "a213b9fd",
   "metadata": {},
   "outputs": [
    {
     "name": "stdout",
     "output_type": "stream",
     "text": [
      "MARIAM\n",
      "MARIAM\n",
      "MARIAM\n"
     ]
    }
   ],
   "source": [
    "name = \"MARIAM\"\n",
    "\n",
    "for i in range(3):\n",
    "    print(name)"
   ]
  },
  {
   "cell_type": "markdown",
   "id": "3deb94cc",
   "metadata": {},
   "source": [
    "### Q14. Write a `for` loop that prints numbers from 1 to 10."
   ]
  },
  {
   "cell_type": "code",
   "execution_count": 7,
   "id": "2f806196",
   "metadata": {},
   "outputs": [
    {
     "name": "stdout",
     "output_type": "stream",
     "text": [
      "1\n",
      "2\n",
      "3\n",
      "4\n",
      "5\n",
      "6\n",
      "7\n",
      "8\n",
      "9\n",
      "10\n"
     ]
    }
   ],
   "source": [
    "for i in range(1, 11):\n",
    "    print(i)"
   ]
  },
  {
   "cell_type": "markdown",
   "id": "ede90dd1",
   "metadata": {},
   "source": [
    "### Q15. Use a `for` loop to iterate over a list and print each element."
   ]
  },
  {
   "cell_type": "code",
   "execution_count": 8,
   "id": "ca9ff07e",
   "metadata": {},
   "outputs": [
    {
     "name": "stdout",
     "output_type": "stream",
     "text": [
      "ADVANCED\n",
      "COMPUTER ARCHITECTURE\n",
      "MICRO\n",
      "SEMINAR\n"
     ]
    }
   ],
   "source": [
    "COURSES = [\"ADVANCED\", \"COMPUTER ARCHITECTURE\", \"MICRO\", \"SEMINAR\"]\n",
    "for COURSE in COURSES:\n",
    "    print(COURSE)"
   ]
  },
  {
   "cell_type": "markdown",
   "id": "850c2ca8",
   "metadata": {},
   "source": [
    "### Q16. Write a program to calculate the sum of numbers from 1 to 100."
   ]
  },
  {
   "cell_type": "code",
   "execution_count": 9,
   "id": "16a8cd5c",
   "metadata": {},
   "outputs": [
    {
     "name": "stdout",
     "output_type": "stream",
     "text": [
      "The sum of numbers from 1 to 100 is: 5050\n"
     ]
    }
   ],
   "source": [
    "SUM = 0\n",
    "\n",
    "for i in range(1, 101):\n",
    "    SUM += i  \n",
    "print(\"The sum of numbers from 1 to 100 is:\", SUM)"
   ]
  },
  {
   "cell_type": "markdown",
   "id": "6250746b",
   "metadata": {},
   "source": [
    "### Q17. Write a `for` loop that prints only even numbers from 1 to 20."
   ]
  },
  {
   "cell_type": "code",
   "execution_count": 14,
   "id": "2764eb99",
   "metadata": {},
   "outputs": [
    {
     "name": "stdout",
     "output_type": "stream",
     "text": [
      "2\n",
      "4\n",
      "6\n",
      "8\n",
      "10\n",
      "12\n",
      "14\n",
      "16\n",
      "18\n",
      "20\n"
     ]
    }
   ],
   "source": [
    "for X in range(1, 21):\n",
    "    if X % 2 == 0:\n",
    "        print(X)"
   ]
  },
  {
   "cell_type": "markdown",
   "id": "3b2408b5",
   "metadata": {},
   "source": [
    "### Q18. Write a `for` loop to print each character in a string."
   ]
  },
  {
   "cell_type": "code",
   "execution_count": 15,
   "id": "fc73c912",
   "metadata": {},
   "outputs": [
    {
     "name": "stdout",
     "output_type": "stream",
     "text": [
      "H\n",
      "I\n",
      "!\n"
     ]
    }
   ],
   "source": [
    "text = \"HI!\"\n",
    "for char in text:\n",
    "    print(char)"
   ]
  },
  {
   "cell_type": "markdown",
   "id": "c75cb287",
   "metadata": {},
   "source": [
    "### Q19. Use a `for` loop to print all values in a dictionary."
   ]
  },
  {
   "cell_type": "code",
   "execution_count": 16,
   "id": "62d9d757",
   "metadata": {},
   "outputs": [
    {
     "name": "stdout",
     "output_type": "stream",
     "text": [
      "Mariam\n",
      "20\n",
      "CAIRO\n"
     ]
    }
   ],
   "source": [
    "person = {\n",
    "    \"NAME\": \"Mariam\",\n",
    "    \"AGE\": 20,\n",
    "    \"city\": \"CAIRO\"\n",
    "}\n",
    "for value in person.values():\n",
    "    print(value)"
   ]
  },
  {
   "cell_type": "markdown",
   "id": "6994e4ca",
   "metadata": {},
   "source": [
    "### Q20. Write a program that uses a `for` loop to find the factorial of a number."
   ]
  },
  {
   "cell_type": "code",
   "execution_count": 17,
   "id": "9fb8b4be",
   "metadata": {},
   "outputs": [
    {
     "name": "stdout",
     "output_type": "stream",
     "text": [
      "Factorial of 5 is 120\n"
     ]
    }
   ],
   "source": [
    "n = 5\n",
    "factorial = 1\n",
    "for i in range(1, n+1):\n",
    "    factorial *= i\n",
    "print(\"Factorial of\", n, \"is\", factorial)"
   ]
  },
  {
   "cell_type": "code",
   "execution_count": 18,
   "id": "254cb435",
   "metadata": {},
   "outputs": [
    {
     "name": "stdout",
     "output_type": "stream",
     "text": [
      "The factorial of 4 is 24.\n"
     ]
    }
   ],
   "source": [
    "num = int(input(\"Enter a number: \"))\n",
    "factorial = 1\n",
    "if num < 0:\n",
    "    print(\"Factorial is not defined for negative numbers.\")\n",
    "elif num == 0:\n",
    "    print(\"The factorial of 0 is 1.\")\n",
    "else:\n",
    "    for i in range(1, num + 1):\n",
    "        factorial *= i\n",
    "    print(f\"The factorial of {num} is {factorial}.\")"
   ]
  },
  {
   "cell_type": "markdown",
   "id": "92d3b300",
   "metadata": {},
   "source": [
    "### Q21. Create a list of your 5 favorite fruits."
   ]
  },
  {
   "cell_type": "code",
   "execution_count": 20,
   "id": "3f2d07e3",
   "metadata": {},
   "outputs": [
    {
     "data": {
      "text/plain": [
       "['MANGO', 'BANANA', 'PINEAPPLLE', 'WATERMELON']"
      ]
     },
     "execution_count": 20,
     "metadata": {},
     "output_type": "execute_result"
    }
   ],
   "source": [
    "LISFRU = ['MANGO' , 'BANANA' , 'PINEAPPLLE' , 'WATERMELON']\n",
    "LISFRU"
   ]
  },
  {
   "cell_type": "markdown",
   "id": "e3433500",
   "metadata": {},
   "source": [
    "### Q22. Add a new fruit to your list of favorite fruits."
   ]
  },
  {
   "cell_type": "code",
   "execution_count": 21,
   "id": "f9ffd8d2",
   "metadata": {},
   "outputs": [
    {
     "data": {
      "text/plain": [
       "['MANGO', 'BANANA', 'PINEAPPLLE', 'WATERMELON', 'STRAWBERRY']"
      ]
     },
     "execution_count": 21,
     "metadata": {},
     "output_type": "execute_result"
    }
   ],
   "source": [
    "LISFRU.append('STRAWBERRY')\n",
    "LISFRU"
   ]
  },
  {
   "cell_type": "markdown",
   "id": "a33917e4",
   "metadata": {},
   "source": [
    "### Q23. Remove the second item from a list."
   ]
  },
  {
   "cell_type": "code",
   "execution_count": 25,
   "id": "0fac364c",
   "metadata": {},
   "outputs": [
    {
     "data": {
      "text/plain": [
       "['MANGO', 'PINEAPPLLE', 'WATERMELON', 'STRAWBERRY']"
      ]
     },
     "execution_count": 25,
     "metadata": {},
     "output_type": "execute_result"
    }
   ],
   "source": [
    "LISFRU = ['MANGO', 'BANANA', 'PINEAPPLLE', 'WATERMELON', 'STRAWBERRY']\n",
    "LISFRU.pop(1)\n",
    "LISFRU"
   ]
  },
  {
   "cell_type": "markdown",
   "id": "497047c6",
   "metadata": {},
   "source": [
    "### Q24. Sort a list of numbers in descending order."
   ]
  },
  {
   "cell_type": "code",
   "execution_count": 26,
   "id": "b9717e06",
   "metadata": {},
   "outputs": [
    {
     "name": "stdout",
     "output_type": "stream",
     "text": [
      "[9, 7, 5, 2, 1]\n"
     ]
    }
   ],
   "source": [
    "numbers = [5, 2, 9, 1, 7]\n",
    "numbers.sort(reverse=True)\n",
    "print(numbers)"
   ]
  },
  {
   "cell_type": "markdown",
   "id": "6a3a29ad",
   "metadata": {},
   "source": [
    "### Q25. Find the maximum and minimum values in a list."
   ]
  },
  {
   "cell_type": "code",
   "execution_count": 27,
   "id": "82cc41dd",
   "metadata": {},
   "outputs": [
    {
     "name": "stdout",
     "output_type": "stream",
     "text": [
      "55\n",
      "5\n"
     ]
    }
   ],
   "source": [
    "list = [5, 30, 25, 10, 55]\n",
    "print(max(list))\n",
    "print(min(list))"
   ]
  },
  {
   "cell_type": "markdown",
   "id": "a5077085",
   "metadata": {},
   "source": [
    "### Q26. Count how many times a value appears in a list."
   ]
  },
  {
   "cell_type": "code",
   "execution_count": 28,
   "id": "5953d267",
   "metadata": {},
   "outputs": [
    {
     "name": "stdout",
     "output_type": "stream",
     "text": [
      "The value 'apple' appears 3 times in the list.\n"
     ]
    }
   ],
   "source": [
    "fruits = [\"apple\", \"banana\", \"apple\", \"cherry\", \"banana\", \"apple\"]\n",
    "value_to_count = \"apple\"\n",
    "count = fruits.count(value_to_count)\n",
    "print(f\"The value '{value_to_count}' appears {count} times in the list.\")"
   ]
  },
  {
   "cell_type": "markdown",
   "id": "e767871e",
   "metadata": {},
   "source": [
    "### Q27. Check if a specific value exists in a list."
   ]
  },
  {
   "cell_type": "code",
   "execution_count": 29,
   "id": "97bb90bd",
   "metadata": {},
   "outputs": [
    {
     "name": "stdout",
     "output_type": "stream",
     "text": [
      "30 exists in the list.\n"
     ]
    }
   ],
   "source": [
    "numbers = [10, 20, 30, 40, 50]\n",
    "\n",
    "# Value to check\n",
    "value_to_check = 30\n",
    "\n",
    "# Check if the value exists in the list\n",
    "if value_to_check in numbers:\n",
    "    print(f\"{value_to_check} exists in the list.\")\n",
    "else:\n",
    "    print(f\"{value_to_check} does not exist in the list.\")"
   ]
  },
  {
   "cell_type": "markdown",
   "id": "346632ba",
   "metadata": {},
   "source": [
    "### Q28. Reverse a list without using reverse() function."
   ]
  },
  {
   "cell_type": "code",
   "execution_count": 33,
   "id": "663befc6",
   "metadata": {},
   "outputs": [
    {
     "name": "stdout",
     "output_type": "stream",
     "text": [
      "[1, 2, 3, 4]\n"
     ]
    }
   ],
   "source": [
    "i =[1 ,2 ,3 ,4]\n",
    "print(i[::1])\n"
   ]
  },
  {
   "cell_type": "markdown",
   "id": "4f28f319",
   "metadata": {},
   "source": [
    "### Q29. Make a copy of a list and modify the copy only."
   ]
  },
  {
   "cell_type": "code",
   "execution_count": 34,
   "id": "e665fc96",
   "metadata": {},
   "outputs": [
    {
     "name": "stdout",
     "output_type": "stream",
     "text": [
      "Original list: [1, 2, 3, 4, 5]\n",
      "Modified copy: [1, 2, 3, 4, 5, 6]\n"
     ]
    }
   ],
   "source": [
    "original_list = [1, 2, 3, 4, 5]\n",
    "copy_list = original_list[:]\n",
    "copy_list.append(6)\n",
    "print(\"Original list:\", original_list)\n",
    "print(\"Modified copy:\", copy_list)"
   ]
  },
  {
   "cell_type": "markdown",
   "id": "4fd7ffdf",
   "metadata": {},
   "source": [
    "### Q30. Use slicing to get the first 3 items of a list."
   ]
  },
  {
   "cell_type": "code",
   "execution_count": 35,
   "id": "5109bd94",
   "metadata": {},
   "outputs": [
    {
     "name": "stdout",
     "output_type": "stream",
     "text": [
      "[10, 20, 30]\n"
     ]
    }
   ],
   "source": [
    "my_list = [10, 20, 30, 40, 50]\n",
    "first_three = my_list[:3]\n",
    "print(first_three)"
   ]
  },
  {
   "cell_type": "markdown",
   "id": "fa7d8cbc",
   "metadata": {},
   "source": [
    "### Q31. Create a tuple with 4 elements and print its length."
   ]
  },
  {
   "cell_type": "code",
   "execution_count": 36,
   "id": "1d519f4c",
   "metadata": {},
   "outputs": [
    {
     "name": "stdout",
     "output_type": "stream",
     "text": [
      "4\n"
     ]
    }
   ],
   "source": [
    "tu = (20, 40, 60, 80)\n",
    "print(len(tu))"
   ]
  },
  {
   "cell_type": "markdown",
   "id": "1fc14e2a",
   "metadata": {},
   "source": [
    "### Q32. Access the last element of a tuple."
   ]
  },
  {
   "cell_type": "code",
   "execution_count": 37,
   "id": "924f8f7f",
   "metadata": {},
   "outputs": [
    {
     "name": "stdout",
     "output_type": "stream",
     "text": [
      "50\n"
     ]
    }
   ],
   "source": [
    "my_tuple = (10, 20, 30, 40, 50)\n",
    "last_element = my_tuple[-1]\n",
    "print(last_element)"
   ]
  },
  {
   "cell_type": "markdown",
   "id": "31393230",
   "metadata": {},
   "source": [
    "### Q33. Convert a tuple into a list."
   ]
  },
  {
   "cell_type": "code",
   "execution_count": 41,
   "id": "db7e4655",
   "metadata": {},
   "outputs": [
    {
     "name": "stdout",
     "output_type": "stream",
     "text": [
      "[1, 2, 3, 4, 5]\n"
     ]
    }
   ],
   "source": [
    "my_tuple = (1, 2, 3, 4, 5)\n",
    "\n",
    "my_list = []\n",
    "for item in my_tuple:\n",
    "    my_list.append(item)\n",
    "\n",
    "print(my_list)"
   ]
  },
  {
   "cell_type": "code",
   "execution_count": 44,
   "id": "d419f723",
   "metadata": {},
   "outputs": [
    {
     "name": "stdout",
     "output_type": "stream",
     "text": [
      "(1, 2, 3, 4, 5)\n"
     ]
    }
   ],
   "source": [
    "tuple = (1, 2, 3, 4, 5)\n",
    "list1 = (tuple)\n",
    "\n",
    "print(list1)"
   ]
  },
  {
   "cell_type": "markdown",
   "id": "f2605bd7",
   "metadata": {},
   "source": [
    "### Q34. Convert a list into a tuple."
   ]
  },
  {
   "cell_type": "code",
   "execution_count": 48,
   "id": "2fc2424c",
   "metadata": {},
   "outputs": [
    {
     "name": "stdout",
     "output_type": "stream",
     "text": [
      "(1, 2, 3, 4, 5)\n"
     ]
    }
   ],
   "source": [
    "my_list = [1, 2, 3, 4, 5]\n",
    "my_tuple = ()\n",
    "for item in my_list:\n",
    "    my_tuple += (item,)\n",
    "\n",
    "print(my_tuple)"
   ]
  },
  {
   "cell_type": "markdown",
   "id": "8ea26fed",
   "metadata": {},
   "source": [
    "### Q35. Check if a value exists in a tuple."
   ]
  },
  {
   "cell_type": "code",
   "execution_count": 49,
   "id": "502ca8ef",
   "metadata": {},
   "outputs": [
    {
     "name": "stdout",
     "output_type": "stream",
     "text": [
      "30 exists in the tuple.\n"
     ]
    }
   ],
   "source": [
    "my_tuple = (10, 20, 30, 40, 50)\n",
    "value = 30\n",
    "if value in my_tuple:\n",
    "    print(f\"{value} exists in the tuple.\")\n",
    "else:\n",
    "    print(f\"{value} does not exist in the tuple.\")"
   ]
  },
  {
   "cell_type": "markdown",
   "id": "1861d487",
   "metadata": {},
   "source": [
    "### Q36. Concatenate two tuples."
   ]
  },
  {
   "cell_type": "code",
   "execution_count": 51,
   "id": "25990032",
   "metadata": {},
   "outputs": [
    {
     "name": "stdout",
     "output_type": "stream",
     "text": [
      "(1, 2, 3, 4, 5, 6)\n"
     ]
    }
   ],
   "source": [
    "tuple1 = (1, 2, 3)\n",
    "tuple2 = (4, 5, 6)\n",
    "result = tuple1 + tuple2\n",
    "print(result)"
   ]
  },
  {
   "cell_type": "markdown",
   "id": "7a62f436",
   "metadata": {},
   "source": [
    "### Q37. Repeat a tuple 3 times."
   ]
  },
  {
   "cell_type": "code",
   "execution_count": 52,
   "id": "1342d94a",
   "metadata": {},
   "outputs": [
    {
     "name": "stdout",
     "output_type": "stream",
     "text": [
      "(1, 2, 3, 1, 2, 3, 1, 2, 3)\n"
     ]
    }
   ],
   "source": [
    "my_tuple = (1, 2, 3)\n",
    "repeated_tuple = my_tuple * 3\n",
    "print(repeated_tuple)\n"
   ]
  },
  {
   "cell_type": "markdown",
   "id": "5d54389e",
   "metadata": {},
   "source": [
    "### Q38. Find the index of an element in a tuple."
   ]
  },
  {
   "cell_type": "code",
   "execution_count": 53,
   "id": "3dbcc47b",
   "metadata": {},
   "outputs": [
    {
     "name": "stdout",
     "output_type": "stream",
     "text": [
      "The index of 30 is: 2\n"
     ]
    }
   ],
   "source": [
    "my_tuple = (10, 20, 30, 40, 50)\n",
    "index = my_tuple.index(30)\n",
    "print(\"The index of 30 is:\", index)"
   ]
  },
  {
   "cell_type": "markdown",
   "id": "41e0cb37",
   "metadata": {},
   "source": [
    "### Q39. Use tuple unpacking to assign values to variables."
   ]
  },
  {
   "cell_type": "code",
   "execution_count": 12,
   "id": "b38c6788",
   "metadata": {},
   "outputs": [
    {
     "data": {
      "text/plain": [
       "[1, 2, 3, 4, 5, 6, 7, 8, 9, 10]"
      ]
     },
     "execution_count": 12,
     "metadata": {},
     "output_type": "execute_result"
    }
   ],
   "source": [
    "a ,b = 20 ,40\n",
    "l1 =[1 , 2 ,3 ,4 ,5]\n",
    "l2 =[6 , 7 , 8 , 9 ,10]\n",
    "r=l1+l2\n",
    "r"
   ]
  },
  {
   "cell_type": "markdown",
   "id": "70b69ddd",
   "metadata": {},
   "source": [
    "### Q40. Create a nested list and access an inner element."
   ]
  },
  {
   "cell_type": "code",
   "execution_count": 9,
   "id": "0d05b3e7",
   "metadata": {},
   "outputs": [
    {
     "data": {
      "text/plain": [
       "(['ali', 'amr', 'rana'], ['manal', 'farida', 'samira'])"
      ]
     },
     "execution_count": 9,
     "metadata": {},
     "output_type": "execute_result"
    }
   ],
   "source": [
    "m = [['ali' , 'amr' , 'rana'],['manal' , 'farida' ,'samira']]\n",
    "m\n",
    "m[0],m[1]"
   ]
  },
  {
   "cell_type": "markdown",
   "id": "70256f64",
   "metadata": {},
   "source": [
    "### Q41. Create a set of 5 unique colors."
   ]
  },
  {
   "cell_type": "code",
   "execution_count": 54,
   "id": "4be1c2bb",
   "metadata": {},
   "outputs": [
    {
     "name": "stdout",
     "output_type": "stream",
     "text": [
      "{'green', 'purple', 'blue', 'yellow', 'red'}\n"
     ]
    }
   ],
   "source": [
    "colors = {\"red\", \"blue\", \"green\", \"yellow\", \"purple\"}\n",
    "\n",
    "print(colors)"
   ]
  },
  {
   "cell_type": "markdown",
   "id": "774bddd7",
   "metadata": {},
   "source": [
    "### Q42. Add a new color to the set."
   ]
  },
  {
   "cell_type": "code",
   "execution_count": 55,
   "id": "9129a921",
   "metadata": {},
   "outputs": [
    {
     "name": "stdout",
     "output_type": "stream",
     "text": [
      "{'green', 'purple', 'orange', 'blue', 'yellow', 'red'}\n"
     ]
    }
   ],
   "source": [
    "colors = {\"red\", \"blue\", \"green\", \"yellow\", \"purple\"}\n",
    "colors.add(\"orange\")\n",
    "print(colors)"
   ]
  },
  {
   "cell_type": "markdown",
   "id": "3cc0470c",
   "metadata": {},
   "source": [
    "### Q43. Remove an item from the set using `remove()`."
   ]
  },
  {
   "cell_type": "code",
   "execution_count": 56,
   "id": "e85423ac",
   "metadata": {},
   "outputs": [
    {
     "name": "stdout",
     "output_type": "stream",
     "text": [
      "{'purple', 'blue', 'yellow', 'red'}\n"
     ]
    }
   ],
   "source": [
    "colors = {\"red\", \"blue\", \"green\", \"yellow\", \"purple\"}\n",
    "colors.remove(\"green\")\n",
    "print(colors)"
   ]
  },
  {
   "cell_type": "markdown",
   "id": "b7047e3b",
   "metadata": {},
   "source": [
    "### Q44. Use `discard()` to remove an item that may or may not exist."
   ]
  },
  {
   "cell_type": "code",
   "execution_count": 57,
   "id": "adf2b3c2",
   "metadata": {},
   "outputs": [
    {
     "name": "stdout",
     "output_type": "stream",
     "text": [
      "{'purple', 'blue', 'yellow', 'red'}\n"
     ]
    }
   ],
   "source": [
    "colors = {\"red\", \"blue\", \"green\", \"yellow\", \"purple\"}\n",
    "colors.discard(\"green\")\n",
    "colors.discard(\"orange\")\n",
    "print(colors)"
   ]
  },
  {
   "cell_type": "markdown",
   "id": "0c0338ca",
   "metadata": {},
   "source": [
    "### Q45. Create a set from a list with duplicate values."
   ]
  },
  {
   "cell_type": "code",
   "execution_count": 58,
   "id": "6918aaf4",
   "metadata": {},
   "outputs": [
    {
     "name": "stdout",
     "output_type": "stream",
     "text": [
      "{1, 2, 3, 4, 5}\n"
     ]
    }
   ],
   "source": [
    "my_list = [1, 2, 2, 3, 4, 4, 5, 1]\n",
    "unique_set = set(my_list)\n",
    "print(unique_set)\n"
   ]
  },
  {
   "cell_type": "markdown",
   "id": "531ece70",
   "metadata": {},
   "source": [
    "### Q46. Find the union of two sets."
   ]
  },
  {
   "cell_type": "code",
   "execution_count": 59,
   "id": "f7c8d3a1",
   "metadata": {},
   "outputs": [
    {
     "name": "stdout",
     "output_type": "stream",
     "text": [
      "{1, 2, 3, 4, 5}\n"
     ]
    }
   ],
   "source": [
    "set1 = {1, 2, 3}\n",
    "set2 = {3, 4, 5}\n",
    "union_set = set1.union(set2)\n",
    "print(union_set)"
   ]
  },
  {
   "cell_type": "markdown",
   "id": "37ddac6b",
   "metadata": {},
   "source": [
    "### Q47. Find the intersection of two sets."
   ]
  },
  {
   "cell_type": "code",
   "execution_count": 60,
   "id": "cbb3d58f",
   "metadata": {},
   "outputs": [
    {
     "name": "stdout",
     "output_type": "stream",
     "text": [
      "{3, 4}\n"
     ]
    }
   ],
   "source": [
    "set1 = {1, 2, 3, 4}\n",
    "set2 = {3, 4, 5, 6}\n",
    "intersection_set = set1.intersection(set2)\n",
    "print(intersection_set)"
   ]
  },
  {
   "cell_type": "markdown",
   "id": "cfba12fb",
   "metadata": {},
   "source": [
    "### Q48. Find the difference between two sets."
   ]
  },
  {
   "cell_type": "code",
   "execution_count": 61,
   "id": "87d9d198",
   "metadata": {},
   "outputs": [
    {
     "name": "stdout",
     "output_type": "stream",
     "text": [
      "{1, 2, 5}\n"
     ]
    }
   ],
   "source": [
    "set1 = {1, 2, 3, 4, 5}\n",
    "set2 = {3, 4, 6, 7}\n",
    "difference_set = set1.difference(set2)\n",
    "print(difference_set)"
   ]
  },
  {
   "cell_type": "markdown",
   "id": "fe3124b5",
   "metadata": {},
   "source": [
    "### Q49. Check if a set is a subset of another set."
   ]
  },
  {
   "cell_type": "code",
   "execution_count": null,
   "id": "9414638f",
   "metadata": {},
   "outputs": [
    {
     "name": "stdout",
     "output_type": "stream",
     "text": [
      "True\n"
     ]
    }
   ],
   "source": [
    "set1 = {1, 2, 3}\n",
    "set2 = {1, 2, 3, 4, 5}\n",
    "is_subset = set1.issubset(set2)\n",
    "print(is_subset) "
   ]
  },
  {
   "cell_type": "markdown",
   "id": "3155bdce",
   "metadata": {},
   "source": [
    "### Q50. Check if two sets are disjoint."
   ]
  },
  {
   "cell_type": "code",
   "execution_count": 63,
   "id": "14b85863",
   "metadata": {},
   "outputs": [
    {
     "name": "stdout",
     "output_type": "stream",
     "text": [
      "False\n"
     ]
    }
   ],
   "source": [
    "set1 = {1, 2, 3}\n",
    "set2 = {3, 4, 5}\n",
    "print(set1.isdisjoint(set2)) "
   ]
  },
  {
   "cell_type": "markdown",
   "id": "bad362eb",
   "metadata": {},
   "source": [
    "### Q51. Create a dictionary with 3 items: name, age, and city."
   ]
  },
  {
   "cell_type": "code",
   "execution_count": 66,
   "id": "e2ae3ccd",
   "metadata": {},
   "outputs": [
    {
     "name": "stdout",
     "output_type": "stream",
     "text": [
      "{'name': 'Mariam', 'age': 21, 'city': 'cairol'}\n"
     ]
    }
   ],
   "source": [
    "person = {\"name\": \"Mariam\",\"age\": 21,\"city\": \"cairol\"}\n",
    "print(person)"
   ]
  },
  {
   "cell_type": "markdown",
   "id": "222708fb",
   "metadata": {},
   "source": [
    "### Q52. Add a new key-value pair to the dictionary."
   ]
  },
  {
   "cell_type": "code",
   "execution_count": 65,
   "id": "f309e8a9",
   "metadata": {},
   "outputs": [
    {
     "name": "stdout",
     "output_type": "stream",
     "text": [
      "{'name': 'Mariam', 'age': 25, 'city': 'Istanbul', 'profession': 'Engineer'}\n"
     ]
    }
   ],
   "source": [
    "person = {\"name\": \"Mariam\",\"age\": 25,\"city\": \"Istanbul\"}\n",
    "person[\"profession\"] = \"Engineer\"\n",
    "print(person)"
   ]
  },
  {
   "cell_type": "markdown",
   "id": "608c6307",
   "metadata": {},
   "source": [
    "### Q53. Update the value of an existing key in the dictionary."
   ]
  },
  {
   "cell_type": "code",
   "execution_count": 67,
   "id": "a47b25b9",
   "metadata": {},
   "outputs": [
    {
     "name": "stdout",
     "output_type": "stream",
     "text": [
      "{'name': 'Mariam', 'age': 26, 'city': 'Istanbul'}\n"
     ]
    }
   ],
   "source": [
    "person = {\"name\": \"Mariam\",\"age\": 25,\"city\": \"Istanbul\"}\n",
    "person[\"age\"] = 26\n",
    "print(person)\n"
   ]
  },
  {
   "cell_type": "markdown",
   "id": "99e23fe0",
   "metadata": {},
   "source": [
    "### Q54. Remove a key from the dictionary using `pop()`."
   ]
  },
  {
   "cell_type": "code",
   "execution_count": 68,
   "id": "eb851e69",
   "metadata": {},
   "outputs": [
    {
     "name": "stdout",
     "output_type": "stream",
     "text": [
      "Removed value: Istanbul\n",
      "Updated dictionary: {'name': 'Mariam', 'age': 26}\n"
     ]
    }
   ],
   "source": [
    "person = {\"name\": \"Mariam\",\"age\": 26,\"city\": \"Istanbul\"}\n",
    "removed_value = person.pop(\"city\")\n",
    "print(\"Removed value:\", removed_value)\n",
    "print(\"Updated dictionary:\", person)"
   ]
  },
  {
   "cell_type": "markdown",
   "id": "c84dbe1f",
   "metadata": {},
   "source": [
    "### Q55. Check if a key exists in the dictionary."
   ]
  },
  {
   "cell_type": "code",
   "execution_count": 69,
   "id": "6c8dfaec",
   "metadata": {},
   "outputs": [
    {
     "name": "stdout",
     "output_type": "stream",
     "text": [
      "'age' exists in the dictionary.\n"
     ]
    }
   ],
   "source": [
    "person = {\"name\": \"Mariam\",\"age\": 26,\"city\": \"Istanbul\"}\n",
    "key = \"age\"\n",
    "\n",
    "if key in person:\n",
    "    print(f\"'{key}' exists in the dictionary.\")\n",
    "else:\n",
    "    print(f\"'{key}' does not exist in the dictionary.\")"
   ]
  },
  {
   "cell_type": "markdown",
   "id": "430ec294",
   "metadata": {},
   "source": [
    "### Q56. Loop through a dictionary and print all keys and values."
   ]
  },
  {
   "cell_type": "code",
   "execution_count": 70,
   "id": "6795ec48",
   "metadata": {},
   "outputs": [
    {
     "name": "stdout",
     "output_type": "stream",
     "text": [
      "name: Mariam\n",
      "age: 26\n",
      "city: Istanbul\n"
     ]
    }
   ],
   "source": [
    "person = {\"name\": \"Mariam\",\"age\": 26,\"city\": \"Istanbul\"}\n",
    "for key, value in person.items():\n",
    "    print(f\"{key}: {value}\")"
   ]
  },
  {
   "cell_type": "markdown",
   "id": "da3690bb",
   "metadata": {},
   "source": [
    "### Q57. Get all keys from a dictionary using `keys()`."
   ]
  },
  {
   "cell_type": "code",
   "execution_count": 1,
   "id": "cb54c698",
   "metadata": {},
   "outputs": [
    {
     "name": "stdout",
     "output_type": "stream",
     "text": [
      "['name', 'age', 'city']\n"
     ]
    }
   ],
   "source": [
    "person = {\"name\": \"Mariam\",\"age\": 26,\"city\": \"Istanbul\"}\n",
    "keys = []\n",
    "\n",
    "for key in person:\n",
    "    keys.append(key)\n",
    "\n",
    "print(keys)\n"
   ]
  },
  {
   "cell_type": "markdown",
   "id": "d31b70c5",
   "metadata": {},
   "source": [
    "### Q58. Get all values from a dictionary using `values()`."
   ]
  },
  {
   "cell_type": "code",
   "execution_count": 73,
   "id": "3a766b70",
   "metadata": {},
   "outputs": [
    {
     "name": "stdout",
     "output_type": "stream",
     "text": [
      "['Mariam', 26, 'Istanbul']\n"
     ]
    }
   ],
   "source": [
    "person = {\"name\": \"Mariam\",\"age\": 26,\"city\": \"Istanbul\"}\n",
    "values = []\n",
    "for key in person:\n",
    "    values.append(person[key])\n",
    "print(values)\n"
   ]
  },
  {
   "cell_type": "markdown",
   "id": "b0a9ba1f",
   "metadata": {},
   "source": [
    "### Q59. Get all key-value pairs using `items()`."
   ]
  },
  {
   "cell_type": "code",
   "execution_count": 74,
   "id": "10080491",
   "metadata": {},
   "outputs": [
    {
     "name": "stdout",
     "output_type": "stream",
     "text": [
      "[('name', 'Mariam'), ('age', 26), ('city', 'Istanbul')]\n"
     ]
    }
   ],
   "source": [
    "person = {\"name\": \"Mariam\",\"age\": 26,\"city\": \"Istanbul\"}\n",
    "items = []\n",
    "\n",
    "for key in person:\n",
    "    items.append((key, person[key]))\n",
    "print(items)"
   ]
  },
  {
   "cell_type": "markdown",
   "id": "58cd862e",
   "metadata": {},
   "source": [
    "### Q60. Create a dictionary from two lists: one for keys and one for values."
   ]
  },
  {
   "cell_type": "code",
   "execution_count": 78,
   "id": "24a5326f",
   "metadata": {},
   "outputs": [
    {
     "name": "stdout",
     "output_type": "stream",
     "text": [
      "{'rania': 89, 'lili': 70, 'amr': 17, 'nariman': 30}\n"
     ]
    }
   ],
   "source": [
    "values = [89 ,70 ,17 ,30]\n",
    "keys =['rania' ,'lili' , 'amr' , 'nariman']\n",
    "\n",
    "marks=dict(zip(keys,values))\n",
    "print(marks)\n"
   ]
  }
 ],
 "metadata": {
  "kernelspec": {
   "display_name": "Python 3",
   "language": "python",
   "name": "python3"
  },
  "language_info": {
   "codemirror_mode": {
    "name": "ipython",
    "version": 3
   },
   "file_extension": ".py",
   "mimetype": "text/x-python",
   "name": "python",
   "nbconvert_exporter": "python",
   "pygments_lexer": "ipython3",
   "version": "3.11.9"
  }
 },
 "nbformat": 4,
 "nbformat_minor": 5
}
